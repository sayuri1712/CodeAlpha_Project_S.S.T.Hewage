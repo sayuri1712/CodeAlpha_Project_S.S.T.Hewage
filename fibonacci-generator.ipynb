{
 "cells": [
  {
   "cell_type": "code",
   "execution_count": 3,
   "id": "3d748efd-40e5-439c-831e-35812a4888fa",
   "metadata": {},
   "outputs": [
    {
     "name": "stdin",
     "output_type": "stream",
     "text": [
      "Enter the number of terms in the Fibonacci sequence:  10\n"
     ]
    },
    {
     "name": "stdout",
     "output_type": "stream",
     "text": [
      "The first 10 terms of the Fibonacci sequence are: [0, 1, 1, 2, 3, 5, 8, 13, 21, 34]\n"
     ]
    }
   ],
   "source": [
    "def fibonacci_generator(n):\n",
    "    \"\"\"\n",
    "    Generate the first `n` numbers in the Fibonacci sequence.\n",
    "\n",
    "    :param n: Number of Fibonacci numbers to generate.\n",
    "    :return: A list containing the Fibonacci sequence up to `n` terms.\n",
    "    \"\"\"\n",
    "    if n <= 0:\n",
    "        return []  \n",
    "    elif n == 1:\n",
    "        return [0]  \n",
    "    elif n == 2:\n",
    "        return [0, 1] \n",
    "    fib_sequence = [0, 1]\n",
    "\n",
    "   \n",
    "    for i in range(2, n):\n",
    "        next_fib = fib_sequence[-1] + fib_sequence[-2]\n",
    "        fib_sequence.append(next_fib)\n",
    "\n",
    "    return fib_sequence\n",
    "\n",
    "if __name__ == \"__main__\":\n",
    "    num_terms = int(input(\"Enter the number of terms in the Fibonacci sequence: \"))\n",
    "    result = fibonacci_generator(num_terms)\n",
    "    print(f\"The first {num_terms} terms of the Fibonacci sequence are: {result}\")"
   ]
  },
  {
   "cell_type": "code",
   "execution_count": null,
   "id": "040e3999-315f-4024-8b05-dd2e42e91736",
   "metadata": {},
   "outputs": [],
   "source": []
  }
 ],
 "metadata": {
  "kernelspec": {
   "display_name": "Python 3 (ipykernel)",
   "language": "python",
   "name": "python3"
  },
  "language_info": {
   "codemirror_mode": {
    "name": "ipython",
    "version": 3
   },
   "file_extension": ".py",
   "mimetype": "text/x-python",
   "name": "python",
   "nbconvert_exporter": "python",
   "pygments_lexer": "ipython3",
   "version": "3.12.4"
  }
 },
 "nbformat": 4,
 "nbformat_minor": 5
}
